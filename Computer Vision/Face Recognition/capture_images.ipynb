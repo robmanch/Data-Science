{
 "cells": [
  {
   "cell_type": "markdown",
   "id": "bdbb4148",
   "metadata": {},
   "source": [
    "## Import Libraries"
   ]
  },
  {
   "cell_type": "code",
   "execution_count": 1,
   "id": "541dfa08",
   "metadata": {},
   "outputs": [],
   "source": [
    "import cv2\n",
    "import numpy as np\n",
    "import uuid\n",
    "import os\n",
    "from config import CWD, DATA_PATH, ANC_PATH, POS_PATH, NEG_PATH"
   ]
  },
  {
   "cell_type": "markdown",
   "id": "a8722343",
   "metadata": {},
   "source": [
    "## Capture images for positive and anchor classes"
   ]
  },
  {
   "cell_type": "code",
   "execution_count": 19,
   "id": "06323faa",
   "metadata": {},
   "outputs": [],
   "source": [
    "cap = cv2.VideoCapture(0) # to capture the video\n",
    "\n",
    "while cap.isOpened:\n",
    "    ret, frame = cap.read() # read frame\n",
    "    \n",
    "    # Cut down frame to 250x250px\n",
    "    frame = frame[120:120+250,200:200+250, :]\n",
    "    \n",
    "    if cv2.waitKey(1) & 0XFF == ord('p'): # press 'p' to save a positive image\n",
    "        cv2.imwrite(os.path.join(POS_PATH, f'{uuid.uuid1()}.jpg'), frame)\n",
    "        \n",
    "    if cv2.waitKey(1) & 0XFF == ord('n'): # press 'p' to save a negative image\n",
    "        cv2.imwrite(os.path.join(NEG_PATH, f'{uuid.uuid1()}.jpg'), frame)\n",
    "        \n",
    "    if cv2.waitKey(1) & 0XFF == ord('a'): # press 'p' to save a anchor image\n",
    "        cv2.imwrite(os.path.join(ANC_PATH, f'{uuid.uuid1()}.jpg'), frame)\n",
    "    \n",
    "    cv2.imshow('frame', frame) # show frame\n",
    "    \n",
    "    # Breaking\n",
    "    if cv2.waitKey(1) & 0XFF == ord('q'): # press 'q' to break/quit\n",
    "        break\n",
    "    \n",
    "# Release the webcam\n",
    "cap.release()\n",
    "# Close the image show frame\n",
    "cv2.destroyAllWindows()"
   ]
  },
  {
   "cell_type": "markdown",
   "id": "6387c807",
   "metadata": {},
   "source": [
    "## Move LFW Images to the following repository data/negative"
   ]
  },
  {
   "cell_type": "code",
   "execution_count": null,
   "id": "678a4505",
   "metadata": {},
   "outputs": [],
   "source": [
    "# !tar -xf lfw.tgz"
   ]
  },
  {
   "cell_type": "code",
   "execution_count": null,
   "id": "6d4eb432",
   "metadata": {},
   "outputs": [],
   "source": [
    "# Move LFW Images to the following repository data/negative\n",
    "for directory in os.listdir('lfw'):\n",
    "    for file in os.listdir(os.path.join('lfw', directory)):\n",
    "        EX_PATH = os.path.join('lfw', directory, file)\n",
    "        NEW_PATH = os.path.join(NEG_PATH, file)\n",
    "        os.replace(EX_PATH, NEW_PATH)"
   ]
  },
  {
   "cell_type": "markdown",
   "id": "abc16c5b",
   "metadata": {},
   "source": [
    "# References:\n",
    "1. DeepFace: Closing the Gap to Human-Level Performance in Face Verification\n",
    "2. Nicholas Renotte, https://lnkd.in/gi7fYrUY"
   ]
  },
  {
   "cell_type": "code",
   "execution_count": null,
   "id": "9606bac4",
   "metadata": {},
   "outputs": [],
   "source": []
  }
 ],
 "metadata": {
  "kernelspec": {
   "display_name": "Python 3",
   "language": "python",
   "name": "python3"
  },
  "language_info": {
   "codemirror_mode": {
    "name": "ipython",
    "version": 3
   },
   "file_extension": ".py",
   "mimetype": "text/x-python",
   "name": "python",
   "nbconvert_exporter": "python",
   "pygments_lexer": "ipython3",
   "version": "3.8.8"
  }
 },
 "nbformat": 4,
 "nbformat_minor": 5
}
