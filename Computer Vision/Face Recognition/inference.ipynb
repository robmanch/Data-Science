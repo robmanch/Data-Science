{
 "cells": [
  {
   "cell_type": "markdown",
   "id": "7ed4ee5f",
   "metadata": {},
   "source": [
    "# Load Model"
   ]
  },
  {
   "cell_type": "code",
   "execution_count": 2,
   "id": "46fd9fd9",
   "metadata": {},
   "outputs": [
    {
     "name": "stdout",
     "output_type": "stream",
     "text": [
      "WARNING:tensorflow:No training configuration found in the save file, so the model was *not* compiled. Compile it manually.\n",
      "Face Verified: True, Confidence Score: 1.0\n",
      "Face Verified: True, Confidence Score: 0.9999998807907104\n",
      "Face Verified: True, Confidence Score: 0.9999996423721313\n",
      "Face Verified: True, Confidence Score: 0.9999998807907104\n",
      "Face Verified: True, Confidence Score: 0.9999998807907104\n",
      "Face Verified: True, Confidence Score: 0.9999998807907104\n",
      "Face Verified: True, Confidence Score: 1.0\n",
      "Face Verified: True, Confidence Score: 0.9996569156646729\n",
      "Face Verified: False, Confidence Score: 0.09416405856609344\n",
      "Face Verified: False, Confidence Score: 0.050812557339668274\n"
     ]
    }
   ],
   "source": [
    "import os\n",
    "import cv2\n",
    "import numpy as np\n",
    "from config import CWD, DATA_PATH, ANC_PATH, POS_PATH, NEG_PATH\n",
    "import tensorflow as tf\n",
    "from tensorflow.keras.layers import Layer\n",
    "\n",
    "# Siamese L1 Distance class\n",
    "class L1Dist(Layer):\n",
    "    \n",
    "    # Init method - inheritance\n",
    "    def __init__(self, **kwargs):\n",
    "        super().__init__()\n",
    "       \n",
    "    # Magic happens here - similarity calculation\n",
    "    def call(self, input_embedding, validation_embedding):\n",
    "        return tf.math.abs(input_embedding - validation_embedding)\n",
    "\n",
    "# Reload model \n",
    "siamese_model = tf.keras.models.load_model('siamesemodelv2.h5', \n",
    "                                   custom_objects={'L1Dist':L1Dist, 'BinaryCrossentropy':tf.losses.BinaryCrossentropy}"
   ]
  },
  {
   "cell_type": "markdown",
   "id": "992bb188",
   "metadata": {},
   "source": [
    "# Preprocess"
   ]
  },
  {
   "cell_type": "code",
   "execution_count": 1,
   "id": "26212a8d",
   "metadata": {},
   "outputs": [],
   "source": [
    "def preprocess(file_path):\n",
    "    \n",
    "    # Read in image from file path\n",
    "    byte_img = tf.io.read_file(file_path)\n",
    "    # Load in the image \n",
    "    img = tf.io.decode_jpeg(byte_img)\n",
    "    \n",
    "    # Preprocessing steps - resizing the image to be 100x100x3\n",
    "    img = tf.image.resize(img, (224,224))\n",
    "    # Scale image to be between 0 and 1 \n",
    "    img = img / 255.0\n",
    "\n",
    "    # Return image\n",
    "    return img"
   ]
  },
  {
   "cell_type": "markdown",
   "id": "272c8c8a",
   "metadata": {},
   "source": [
    "# Main function to run the face verification"
   ]
  },
  {
   "cell_type": "code",
   "execution_count": null,
   "id": "6d1a9c8b",
   "metadata": {},
   "outputs": [],
   "source": [
    "def verify(model, detection_threshold, verification_threshold):\n",
    "    # Build results array\n",
    "    results = []\n",
    "    input_img = preprocess(os.path.join('application_data', 'input_image', 'input_image.jpg'))\n",
    "    for image in os.listdir(os.path.join('application_data', 'verification_images')):\n",
    "        validation_img = preprocess(os.path.join('application_data', 'verification_images', image))\n",
    "        \n",
    "        # Make Predictions \n",
    "        result = model.predict(list(np.expand_dims([input_img, validation_img], axis=1)))\n",
    "        results.append(result)\n",
    "    \n",
    "    # Detection Threshold: Metric above which a prediciton is considered positive \n",
    "    detection = np.sum(np.array(results) > detection_threshold)\n",
    "    \n",
    "    # Verification Threshold: Proportion of positive predictions / total positive samples \n",
    "    verification = detection / len(os.listdir(os.path.join('application_data', 'verification_images'))) \n",
    "    verified = verification > verification_threshold\n",
    "    \n",
    "    return results, verified\n",
    "\n",
    "if __name__ == \"__main__\":\n",
    "    cap = cv2.VideoCapture(0)\n",
    "    while cap.isOpened():\n",
    "        ret, frame = cap.read()\n",
    "        frame = frame[120:120+250,200:200+250, :]\n",
    "\n",
    "        cv2.imshow('Verification', frame)\n",
    "\n",
    "        # Verification trigger\n",
    "        if cv2.waitKey(10) & 0xFF == ord('v'):\n",
    "            cv2.imwrite(os.path.join('application_data', 'input_image', 'input_image.jpg'), frame)\n",
    "            # Run verification\n",
    "            results, verified = verify(siamese_model, 0.5, 0.5)\n",
    "            print(f'Face Verified: {verified}, Confidence Score: {results[0][0][0]}')\n",
    "\n",
    "        if cv2.waitKey(10) & 0xFF == ord('q'):\n",
    "            break\n",
    "    cap.release()\n",
    "    cv2.destroyAllWindows()"
   ]
  },
  {
   "cell_type": "markdown",
   "id": "22d2a9bd",
   "metadata": {},
   "source": [
    "# References:\n",
    "1. DeepFace: Closing the Gap to Human-Level Performance in Face Verification\n",
    "2. Nicholas Renotte, https://lnkd.in/gi7fYrUY"
   ]
  },
  {
   "cell_type": "code",
   "execution_count": null,
   "id": "62d43cef",
   "metadata": {},
   "outputs": [],
   "source": []
  }
 ],
 "metadata": {
  "kernelspec": {
   "display_name": "adv_maths",
   "language": "python",
   "name": "adv_maths"
  },
  "language_info": {
   "codemirror_mode": {
    "name": "ipython",
    "version": 3
   },
   "file_extension": ".py",
   "mimetype": "text/x-python",
   "name": "python",
   "nbconvert_exporter": "python",
   "pygments_lexer": "ipython3",
   "version": "3.9.7"
  }
 },
 "nbformat": 4,
 "nbformat_minor": 5
}
