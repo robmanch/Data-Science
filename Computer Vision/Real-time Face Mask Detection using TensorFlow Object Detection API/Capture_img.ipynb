{
 "cells": [
  {
   "cell_type": "markdown",
   "id": "0ed07e45",
   "metadata": {},
   "source": [
    "# Applied  ML and Advanced AI systems - AIDI 2000\n",
    "## Final Project - Real-time mask detection using tensorflow object detection API\n",
    "## Course Facilitator:\n",
    "\n",
    "Noopa Jagdeesh"
   ]
  },
  {
   "cell_type": "markdown",
   "id": "5a79c9fa",
   "metadata": {},
   "source": [
    "## Group Members: \n",
    "\n",
    "Robin Manchanda (100811316)\n",
    "\n",
    "Krishnamohan Pingali (100820336)\n",
    "\n",
    "Nishant Balasubramanian (100808971)"
   ]
  },
  {
   "cell_type": "markdown",
   "id": "9d4d318e",
   "metadata": {},
   "source": [
    "## Importing Libraries"
   ]
  },
  {
   "cell_type": "code",
   "execution_count": 15,
   "id": "d4a5e53a",
   "metadata": {},
   "outputs": [],
   "source": [
    "import cv2\n",
    "import time\n",
    "import os\n",
    "import numpy as np\n",
    "import shutil"
   ]
  },
  {
   "cell_type": "markdown",
   "id": "6fadcc62",
   "metadata": {},
   "source": [
    "## Working Directory"
   ]
  },
  {
   "cell_type": "code",
   "execution_count": 9,
   "id": "f454a56b",
   "metadata": {},
   "outputs": [],
   "source": [
    "base_dir = r'C:\\Users\\14372\\Desktop\\College-2\\ML\\Project\\Tensorflow\\workspace\\images'\n",
    "mask_dir = base_dir + \"\\mask\"\n",
    "no_mask_dir = base_dir + r\"\\NO_Mask\""
   ]
  },
  {
   "cell_type": "code",
   "execution_count": 25,
   "id": "75162ca3",
   "metadata": {},
   "outputs": [],
   "source": [
    "os.makedirs(os.path.join(base_dir, 'Mask'))\n",
    "os.makedirs(os.path.join(base_dir, 'NO_Mask'))"
   ]
  },
  {
   "cell_type": "markdown",
   "id": "ef0d2fd6",
   "metadata": {},
   "source": [
    "## Capturing images"
   ]
  },
  {
   "cell_type": "code",
   "execution_count": 10,
   "id": "bdc2e40d",
   "metadata": {},
   "outputs": [],
   "source": [
    "def capture(path, label, n_imgs):\n",
    "    \"\"\"This function will capture n_imgs with label at path.\"\"\"\n",
    "    cap = cv2.VideoCapture(0)\n",
    "#     cv2.namedWindow(\"Mask_vs_Nomask app\")\n",
    "    print('Capturing images for {}'.format(label))\n",
    "    time.sleep(2)\n",
    "    \n",
    "    for i in range(n_imgs):\n",
    "        ret, frame = cap.read()\n",
    "        cv2.imshow('frame', frame)\n",
    "        i_name = os.path.join(path, label, label + '{}.jpg'.format(i))\n",
    "        cv2.imwrite(i_name, frame)\n",
    "#         cv2.imshow('frame', frame)\n",
    "        time.sleep(1)\n",
    "        \n",
    "    cap.release()\n",
    "    cv2.destroyAllWindows()"
   ]
  },
  {
   "cell_type": "code",
   "execution_count": 13,
   "id": "d30a6c55",
   "metadata": {},
   "outputs": [
    {
     "name": "stdout",
     "output_type": "stream",
     "text": [
      "Capturing images for No_Mask\n"
     ]
    }
   ],
   "source": [
    "capture(base_dir, 'No_Mask', 50)"
   ]
  },
  {
   "cell_type": "code",
   "execution_count": 6,
   "id": "3996de0a",
   "metadata": {},
   "outputs": [
    {
     "name": "stdout",
     "output_type": "stream",
     "text": [
      "Capturing images for Mask\n"
     ]
    }
   ],
   "source": [
    "capture(base_dir, 'Mask', 50)"
   ]
  },
  {
   "cell_type": "code",
   "execution_count": 3,
   "id": "d163a72f",
   "metadata": {},
   "outputs": [],
   "source": [
    "train_dir = base_dir + '\\train'\n",
    "test_dir = base_dir + '\\test'"
   ]
  },
  {
   "cell_type": "code",
   "execution_count": 26,
   "id": "f26e84dc",
   "metadata": {},
   "outputs": [
    {
     "data": {
      "text/plain": [
       "['Mask0.jpg',\n",
       " 'Mask0.xml',\n",
       " 'Mask1.jpg',\n",
       " 'Mask1.xml',\n",
       " 'Mask10.jpg',\n",
       " 'Mask10.xml',\n",
       " 'Mask11.jpg',\n",
       " 'Mask11.xml',\n",
       " 'Mask12.jpg',\n",
       " 'Mask12.xml',\n",
       " 'Mask13.jpg',\n",
       " 'Mask13.xml',\n",
       " 'Mask14.jpg',\n",
       " 'Mask14.xml',\n",
       " 'Mask15.jpg',\n",
       " 'Mask15.xml',\n",
       " 'Mask16.jpg',\n",
       " 'Mask16.xml',\n",
       " 'Mask17.jpg',\n",
       " 'Mask17.xml',\n",
       " 'Mask18.jpg',\n",
       " 'Mask18.xml',\n",
       " 'Mask19.jpg',\n",
       " 'Mask19.xml',\n",
       " 'Mask2.jpg',\n",
       " 'Mask2.xml',\n",
       " 'Mask20.jpg',\n",
       " 'Mask20.xml',\n",
       " 'Mask21.jpg',\n",
       " 'Mask21.xml',\n",
       " 'Mask22.jpg',\n",
       " 'Mask22.xml',\n",
       " 'Mask23.jpg',\n",
       " 'Mask23.xml',\n",
       " 'Mask24.jpg',\n",
       " 'Mask24.xml',\n",
       " 'Mask25.jpg',\n",
       " 'Mask25.xml',\n",
       " 'Mask26.jpg',\n",
       " 'Mask26.xml',\n",
       " 'Mask27.jpg',\n",
       " 'Mask27.xml',\n",
       " 'Mask28.jpg',\n",
       " 'Mask28.xml',\n",
       " 'Mask29.jpg',\n",
       " 'Mask29.xml',\n",
       " 'Mask3.jpg',\n",
       " 'Mask3.xml',\n",
       " 'Mask30.jpg',\n",
       " 'Mask30.xml',\n",
       " 'Mask31.jpg',\n",
       " 'Mask31.xml',\n",
       " 'Mask32.jpg',\n",
       " 'Mask32.xml',\n",
       " 'Mask33.jpg',\n",
       " 'Mask33.xml',\n",
       " 'Mask34.jpg',\n",
       " 'Mask34.xml',\n",
       " 'Mask35.jpg',\n",
       " 'Mask35.xml',\n",
       " 'Mask36.jpg',\n",
       " 'Mask36.xml',\n",
       " 'Mask37.jpg',\n",
       " 'Mask37.xml',\n",
       " 'Mask38.jpg',\n",
       " 'Mask38.xml',\n",
       " 'Mask39.jpg',\n",
       " 'Mask39.xml',\n",
       " 'Mask4.jpg',\n",
       " 'Mask4.xml',\n",
       " 'Mask40.jpg',\n",
       " 'Mask40.xml',\n",
       " 'Mask41.jpg',\n",
       " 'Mask41.xml',\n",
       " 'Mask42.jpg',\n",
       " 'Mask42.xml',\n",
       " 'Mask43.jpg',\n",
       " 'Mask43.xml',\n",
       " 'Mask44.jpg',\n",
       " 'Mask44.xml',\n",
       " 'Mask45.jpg',\n",
       " 'Mask45.xml',\n",
       " 'Mask46.jpg',\n",
       " 'Mask46.xml',\n",
       " 'Mask47.jpg',\n",
       " 'Mask47.xml',\n",
       " 'Mask48.jpg',\n",
       " 'Mask48.xml',\n",
       " 'Mask49.jpg',\n",
       " 'Mask49.xml',\n",
       " 'Mask5.jpg',\n",
       " 'Mask5.xml',\n",
       " 'Mask50.jpg',\n",
       " 'Mask50.xml',\n",
       " 'Mask51.jpg',\n",
       " 'Mask51.xml',\n",
       " 'Mask52.jpg',\n",
       " 'Mask52.xml',\n",
       " 'Mask53.jpg',\n",
       " 'Mask53.xml',\n",
       " 'Mask54.jpg',\n",
       " 'Mask54.xml',\n",
       " 'Mask55.jpg',\n",
       " 'Mask55.xml',\n",
       " 'Mask56.jpg',\n",
       " 'Mask56.xml',\n",
       " 'Mask57.jpg',\n",
       " 'Mask57.xml',\n",
       " 'Mask58.jpg',\n",
       " 'Mask58.xml',\n",
       " 'Mask59.jpg',\n",
       " 'Mask59.xml',\n",
       " 'Mask6.jpg',\n",
       " 'Mask6.xml',\n",
       " 'Mask7.jpg',\n",
       " 'Mask7.xml',\n",
       " 'Mask8.jpg',\n",
       " 'Mask8.xml',\n",
       " 'Mask9.jpg',\n",
       " 'Mask9.xml']"
      ]
     },
     "execution_count": 26,
     "metadata": {},
     "output_type": "execute_result"
    }
   ],
   "source": [
    "os.listdir(mask_dir)"
   ]
  },
  {
   "cell_type": "code",
   "execution_count": 11,
   "id": "a51cd366",
   "metadata": {
    "scrolled": true
   },
   "outputs": [
    {
     "data": {
      "text/plain": [
       "['No_Mask0.jpg',\n",
       " 'No_Mask0.xml',\n",
       " 'No_Mask1.jpg',\n",
       " 'No_Mask1.xml',\n",
       " 'No_Mask10.jpg',\n",
       " 'No_Mask10.xml',\n",
       " 'No_Mask11.jpg',\n",
       " 'No_Mask11.xml',\n",
       " 'No_Mask12.jpg',\n",
       " 'No_Mask12.xml',\n",
       " 'No_Mask13.jpg',\n",
       " 'No_Mask13.xml',\n",
       " 'No_Mask14.jpg',\n",
       " 'No_Mask14.xml',\n",
       " 'No_Mask15.jpg',\n",
       " 'No_Mask15.xml',\n",
       " 'No_Mask16.jpg',\n",
       " 'No_Mask16.xml',\n",
       " 'No_Mask17.jpg',\n",
       " 'No_Mask17.xml',\n",
       " 'No_Mask18.jpg',\n",
       " 'No_Mask18.xml',\n",
       " 'No_Mask19.jpg',\n",
       " 'No_Mask19.xml',\n",
       " 'No_Mask2.jpg',\n",
       " 'No_Mask2.xml',\n",
       " 'No_Mask20.jpg',\n",
       " 'No_Mask20.xml',\n",
       " 'No_Mask21.jpg',\n",
       " 'No_Mask21.xml',\n",
       " 'No_Mask22.jpg',\n",
       " 'No_Mask22.xml',\n",
       " 'No_Mask23.jpg',\n",
       " 'No_Mask23.xml',\n",
       " 'No_Mask24.jpg',\n",
       " 'No_Mask24.xml',\n",
       " 'No_Mask25.jpg',\n",
       " 'No_Mask25.xml',\n",
       " 'No_Mask26.jpg',\n",
       " 'No_Mask26.xml',\n",
       " 'No_Mask27.jpg',\n",
       " 'No_Mask27.xml',\n",
       " 'No_Mask28.jpg',\n",
       " 'No_Mask28.xml',\n",
       " 'No_Mask29.jpg',\n",
       " 'No_Mask29.xml',\n",
       " 'No_Mask3.jpg',\n",
       " 'No_Mask3.xml',\n",
       " 'No_Mask30.jpg',\n",
       " 'No_Mask30.xml',\n",
       " 'No_Mask31.jpg',\n",
       " 'No_Mask31.xml',\n",
       " 'No_Mask32.jpg',\n",
       " 'No_Mask32.xml',\n",
       " 'No_Mask33.jpg',\n",
       " 'No_Mask33.xml',\n",
       " 'No_Mask34.jpg',\n",
       " 'No_Mask34.xml',\n",
       " 'No_Mask35.jpg',\n",
       " 'No_Mask35.xml',\n",
       " 'No_Mask36.jpg',\n",
       " 'No_Mask36.xml',\n",
       " 'No_Mask37.jpg',\n",
       " 'No_Mask37.xml',\n",
       " 'No_Mask38.jpg',\n",
       " 'No_Mask38.xml',\n",
       " 'No_Mask39.jpg',\n",
       " 'No_Mask39.xml',\n",
       " 'No_Mask4.jpg',\n",
       " 'No_Mask4.xml',\n",
       " 'No_Mask40.jpg',\n",
       " 'No_Mask40.xml',\n",
       " 'No_Mask41.jpg',\n",
       " 'No_Mask41.xml',\n",
       " 'No_Mask42.jpg',\n",
       " 'No_Mask42.xml',\n",
       " 'No_Mask43.jpg',\n",
       " 'No_Mask43.xml',\n",
       " 'No_Mask44.jpg',\n",
       " 'No_Mask44.xml',\n",
       " 'No_Mask45.jpg',\n",
       " 'No_Mask45.xml',\n",
       " 'No_Mask46.jpg',\n",
       " 'No_Mask46.xml',\n",
       " 'No_Mask47.jpg',\n",
       " 'No_Mask47.xml',\n",
       " 'No_Mask48.jpg',\n",
       " 'No_Mask48.xml',\n",
       " 'No_Mask49.jpg',\n",
       " 'No_Mask49.xml',\n",
       " 'No_Mask5.jpg',\n",
       " 'No_Mask5.xml',\n",
       " 'No_Mask6.jpg',\n",
       " 'No_Mask6.xml',\n",
       " 'No_Mask7.jpg',\n",
       " 'No_Mask7.xml',\n",
       " 'No_Mask8.jpg',\n",
       " 'No_Mask8.xml',\n",
       " 'No_Mask9.jpg',\n",
       " 'No_Mask9.xml']"
      ]
     },
     "execution_count": 11,
     "metadata": {},
     "output_type": "execute_result"
    }
   ],
   "source": [
    "os.listdir(no_mask_dir)"
   ]
  },
  {
   "cell_type": "markdown",
   "id": "c7596548",
   "metadata": {},
   "source": [
    "## Selecting random images and moving them to train and test directory"
   ]
  },
  {
   "cell_type": "code",
   "execution_count": 22,
   "id": "200ee12c",
   "metadata": {},
   "outputs": [],
   "source": [
    "train_index = np.random.choice(np.arange(50), 25, replace = False)\n",
    "test_index = [i for i in np.arange(50) if i not in train_index] \n",
    "def mov_images(index):\n",
    "    'This function will move images from mask and no_mask directories to train and test directories.'\n",
    "    \n",
    "    for i in index:\n",
    "\n",
    "        no_mask_img = 'No_Mask{}.jpg'.format(i)\n",
    "        no_mask_xml = 'No_Mask{}.xml'.format(i)\n",
    "        mask_img = 'Mask{}.jpg'.format(i)\n",
    "        mask_xml = 'Mask{}.xml'.format(i)\n",
    "        shutil.move(mask_dir + mask_img, train_dir + mask_img)\n",
    "        shutil.move(mask_dir + mask_xml, train_dir + mask_xml)\n",
    "        shutil.move(mask_dir + no_mask_img, train_dir + no_mask_img)\n",
    "        shutil.move(mask_dir + no_mask_xml, train_dir + no_mask_xml)"
   ]
  },
  {
   "cell_type": "code",
   "execution_count": 23,
   "id": "fd3f53b5",
   "metadata": {},
   "outputs": [],
   "source": [
    "mov_images(train_index)"
   ]
  },
  {
   "cell_type": "code",
   "execution_count": 24,
   "id": "67abbf33",
   "metadata": {},
   "outputs": [],
   "source": [
    "mov_images(test_index)"
   ]
  }
 ],
 "metadata": {
  "kernelspec": {
   "display_name": "Python 3",
   "language": "python",
   "name": "python3"
  },
  "language_info": {
   "codemirror_mode": {
    "name": "ipython",
    "version": 3
   },
   "file_extension": ".py",
   "mimetype": "text/x-python",
   "name": "python",
   "nbconvert_exporter": "python",
   "pygments_lexer": "ipython3",
   "version": "3.8.5"
  }
 },
 "nbformat": 4,
 "nbformat_minor": 5
}
